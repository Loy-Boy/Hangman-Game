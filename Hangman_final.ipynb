{
  "cells": [
    {
      "cell_type": "markdown",
      "metadata": {
        "id": "view-in-github",
        "colab_type": "text"
      },
      "source": [
        "<a href=\"https://colab.research.google.com/github/Loy-Boy/Hangman-Game/blob/main/Hangman_final.ipynb\" target=\"_parent\"><img src=\"https://colab.research.google.com/assets/colab-badge.svg\" alt=\"Open In Colab\"/></a>"
      ]
    },
    {
      "cell_type": "markdown",
      "id": "649cee80-bfe9-4cf7-955b-560a475b94d7",
      "metadata": {
        "id": "649cee80-bfe9-4cf7-955b-560a475b94d7"
      },
      "source": [
        "# Hangman game"
      ]
    },
    {
      "cell_type": "markdown",
      "source": [
        "## Load all needed Packages"
      ],
      "metadata": {
        "id": "Jps5G1rrNatS"
      },
      "id": "Jps5G1rrNatS"
    },
    {
      "cell_type": "code",
      "source": [
        "import pandas as pd\n",
        "import time\n",
        "import os\n",
        "from google.colab import output #load module for screen clear\n",
        "import random\n",
        "\n",
        "import ipywidgets as widgets\n",
        "from IPython.display import display"
      ],
      "metadata": {
        "id": "4EWpv7B5Nhy6"
      },
      "id": "4EWpv7B5Nhy6",
      "execution_count": 4,
      "outputs": []
    },
    {
      "cell_type": "markdown",
      "source": [
        "##Define Word Pool"
      ],
      "metadata": {
        "id": "lmoXo2fmmfbj"
      },
      "id": "lmoXo2fmmfbj"
    },
    {
      "cell_type": "markdown",
      "source": [
        "###Load CSV with the 58.108 english words"
      ],
      "metadata": {
        "id": "VuaJNMpAWTOw"
      },
      "id": "VuaJNMpAWTOw"
    },
    {
      "cell_type": "code",
      "source": [
        "def many_words():\n",
        "  url = 'https://raw.githubusercontent.com/Loy-Boy/Hangman-Game/main/extreme_words.csv'\n",
        "  import_wordlist = pd.read_csv(url, header=None)\n",
        "\n",
        "  secret = (import_wordlist.to_dict()).pop(0)\n",
        "\n",
        "  possible_words = []\n",
        "\n",
        "  for i in secret:\n",
        "  #  print(secret[i])\n",
        "    word = str(secret[i]).upper()\n",
        "    w_len = len(word)\n",
        "    uni_c = set(word)\n",
        "    uni_len = len(uni_c)\n",
        "    entry= {\n",
        "    \"word\": word,\n",
        "    \"w_len\": w_len,\n",
        "    \"uni_c\": uni_c,\n",
        "    \"uni_len\": uni_len\n",
        "    }\n",
        "    possible_words.append(entry)\n",
        "  filter_u(possible_words)"
      ],
      "metadata": {
        "id": "oQWrMxIkWUNU"
      },
      "id": "oQWrMxIkWUNU",
      "execution_count": 5,
      "outputs": []
    },
    {
      "cell_type": "markdown",
      "source": [
        "###Load CSV with the 2997 of the most used english words"
      ],
      "metadata": {
        "id": "pHPfCCoNNR90"
      },
      "id": "pHPfCCoNNR90"
    },
    {
      "cell_type": "code",
      "source": [
        "def less_words():\n",
        "  url = 'https://raw.githubusercontent.com/Loy-Boy/Hangman-Game/main/wordlist.csv'\n",
        "  import_wordlist = pd.read_csv(url, header=None)\n",
        "\n",
        "  secret = (import_wordlist.to_dict()).pop(0)\n",
        "\n",
        "  possible_words = []\n",
        "\n",
        "  for i in secret:\n",
        "  #  print(secret[i])\n",
        "    word = secret[i].upper()\n",
        "    w_len = len(word)\n",
        "    uni_c = set(word)\n",
        "    uni_len = len(uni_c)\n",
        "    entry= {\n",
        "    \"word\": word,\n",
        "    \"w_len\": w_len,\n",
        "    \"uni_c\": uni_c,\n",
        "    \"uni_len\": uni_len\n",
        "    }\n",
        "    possible_words.append(entry)\n",
        "  filter_u(possible_words)\n"
      ],
      "metadata": {
        "id": "o4CfCf8jHUcb"
      },
      "id": "o4CfCf8jHUcb",
      "execution_count": null,
      "outputs": []
    },
    {
      "cell_type": "markdown",
      "source": [
        "###Set Critera for final Word Pool (Difficulty)"
      ],
      "metadata": {
        "id": "9WXNEBM2N868"
      },
      "id": "9WXNEBM2N868"
    },
    {
      "cell_type": "markdown",
      "source": [
        "#### Filter by unique Charakters\n",
        "\n"
      ],
      "metadata": {
        "id": "qP3Zk74qYTbW"
      },
      "id": "qP3Zk74qYTbW"
    },
    {
      "cell_type": "code",
      "source": [
        "def filter_u(possible_words):       #Sliders to select min and max unique charakters\n",
        "  output.clear()\n",
        "  seq = [x['uni_len'] for x in possible_words]\n",
        "  min_unique = (min(seq))\n",
        "  max_unique = (max(seq))\n",
        "\n",
        "  #define sliders\n",
        "  uni_min_slider = widgets.IntSlider(value=min_unique, max=max_unique, min=min_unique)\n",
        "  uni_max_slider = widgets.IntSlider(value=max_unique, max=max_unique, min=min_unique)\n",
        "\n",
        "  #define button\n",
        "  button = widgets.Button(description=\"Click Me!\")\n",
        "  def on_button_clicked(b):\n",
        "    run_filter_u(uni_min_slider.value, uni_max_slider.value, possible_words)\n",
        "  button.on_click(on_button_clicked)\n",
        "\n",
        "  #Output\n",
        "  print('Choose the minimum number of unique characters first.')\n",
        "  display(uni_min_slider)\n",
        "  print('And the maximum number of unique characters second.')\n",
        "  display(uni_max_slider)\n",
        "  display(button)"
      ],
      "metadata": {
        "id": "fRJxodjMT1sG"
      },
      "id": "fRJxodjMT1sG",
      "execution_count": null,
      "outputs": []
    },
    {
      "cell_type": "markdown",
      "source": [
        "##### Run unique Charakter Filter\n",
        "\n"
      ],
      "metadata": {
        "id": "Vg60UvmXeJXr"
      },
      "id": "Vg60UvmXeJXr"
    },
    {
      "cell_type": "code",
      "source": [
        "def run_filter_u(uni_min_slider, uni_max_slider, possible_words):    #USE unique charakter Filters\n",
        "  red_list = []\n",
        "  for entry in possible_words:\n",
        "    if entry['uni_len'] >= uni_min_slider and entry['uni_len'] <= uni_max_slider:\n",
        "      red_list.append(entry)\n",
        "  possible_words = red_list\n",
        "  filter_l(possible_words)"
      ],
      "metadata": {
        "id": "LInKIs5XdjhB"
      },
      "id": "LInKIs5XdjhB",
      "execution_count": null,
      "outputs": []
    },
    {
      "cell_type": "markdown",
      "source": [
        "#### Filter by Word Length"
      ],
      "metadata": {
        "id": "lYsYTOzuey6j"
      },
      "id": "lYsYTOzuey6j"
    },
    {
      "cell_type": "code",
      "source": [
        "def filter_l(possible_words):     #Sliders to select min and max word length\n",
        "  output.clear()\n",
        "  seq = [x['w_len'] for x in possible_words]\n",
        "  min_len = (min(seq))\n",
        "  max_len = (max(seq))\n",
        "\n",
        "  #define sliders\n",
        "  len_min_slider = widgets.IntSlider(value=min_len, max=max_len, min=min_len)\n",
        "  len_max_slider = widgets.IntSlider(value=max_len, max=max_len, min=min_len)\n",
        "\n",
        "  #define button\n",
        "  button = widgets.Button(description=\"Click Me!\")\n",
        "  def on_button_clicked(b):\n",
        "    run_filter_l(len_min_slider.value, len_max_slider.value, possible_words)\n",
        "  button.on_click(on_button_clicked)\n",
        "\n",
        "  #Output\n",
        "  print('Next choose the minimum word length.')\n",
        "  display(len_min_slider)\n",
        "  print('And the maximum word length.')\n",
        "  display(len_max_slider)\n",
        "  display(button)"
      ],
      "metadata": {
        "id": "NFkV7GXDe6Yz"
      },
      "id": "NFkV7GXDe6Yz",
      "execution_count": null,
      "outputs": []
    },
    {
      "cell_type": "markdown",
      "source": [
        "##### Run Word Length Filter"
      ],
      "metadata": {
        "id": "jpguRkqNgNkh"
      },
      "id": "jpguRkqNgNkh"
    },
    {
      "cell_type": "code",
      "source": [
        "#USE Word length Filters\n",
        "def run_filter_l(len_min_slider, len_max_slider, possible_words):\n",
        "  red_list = []\n",
        "  for entry in possible_words:\n",
        "    if entry['w_len'] >= len_min_slider and entry['w_len'] <= len_max_slider:\n",
        "      red_list.append(entry)\n",
        "  possible_words = red_list\n",
        "  randomize(possible_words)"
      ],
      "metadata": {
        "id": "2qSuKUBlev6B"
      },
      "id": "2qSuKUBlev6B",
      "execution_count": null,
      "outputs": []
    },
    {
      "cell_type": "markdown",
      "source": [
        "##Select a random word out of the new pool"
      ],
      "metadata": {
        "id": "tgG9_mQ094XX"
      },
      "id": "tgG9_mQ094XX"
    },
    {
      "cell_type": "code",
      "source": [
        "### Select a random Word out of the final Pool\n",
        "def randomize(possible_words):\n",
        "\n",
        "  #print(len(possible_words))\n",
        "  rdm =(random.randint(0,len(possible_words)-1))\n",
        "  global new_word\n",
        "  new_word=(possible_words[rdm])\n",
        "  print(new_word)\n",
        "  output.clear()\n",
        "  print('You can start your Game now')\n",
        "#  global start_game\n",
        "#  start_game =1\n",
        "#  runner()"
      ],
      "metadata": {
        "id": "2T8EMNYa0Yn9"
      },
      "id": "2T8EMNYa0Yn9",
      "execution_count": null,
      "outputs": []
    },
    {
      "cell_type": "markdown",
      "source": [
        "##Define Hangman 'animation'"
      ],
      "metadata": {
        "id": "2BbKNfGx-Dv4"
      },
      "id": "2BbKNfGx-Dv4"
    },
    {
      "cell_type": "code",
      "source": [
        "hangman = {0:'''\n",
        "                +---+\n",
        "                | \\ |\n",
        "                   \\|\n",
        "                    |\n",
        "                    |\n",
        "                    |\n",
        "             ==========''', \n",
        "          1:'''\n",
        "                +---+\n",
        "                | \\ |\n",
        "                O  \\|\n",
        "                    |\n",
        "                    |\n",
        "                    |\n",
        "             ==========''', \n",
        "          2:'''\n",
        "                +---+\n",
        "                | \\ |\n",
        "                O  \\|\n",
        "                |   |\n",
        "                    |\n",
        "                    |\n",
        "             ==========''', \n",
        "          3:'''\n",
        "                +---+\n",
        "                | \\ |\n",
        "                O  \\|\n",
        "               /|   |\n",
        "                    |\n",
        "                    |\n",
        "             ==========''', \n",
        "          4:'''\n",
        "                +---+\n",
        "                | \\ |\n",
        "                O  \\|\n",
        "               /|\\  |\n",
        "                    |\n",
        "                    |\n",
        "             ==========''', \n",
        "          5:'''\n",
        "                +---+\n",
        "                | \\ |\n",
        "                O  \\|\n",
        "               /|\\  |\n",
        "               /    |\n",
        "                    |\n",
        "             ==========''', \n",
        "          6:'''\n",
        "                +---+\n",
        "                | \\ |\n",
        "                Q  \\|\n",
        "               /|\\  |\n",
        "               / \\  |\n",
        "                    |\n",
        "             ==========''', \n",
        "          7:'''\n",
        "                +---+\n",
        "                  \\ |\n",
        "                   \\|\n",
        "               \\O/  |\n",
        "                |   |\n",
        "               / \\  |\n",
        "             =========='''}"
      ],
      "metadata": {
        "id": "KdRuK0KnNYwW"
      },
      "id": "KdRuK0KnNYwW",
      "execution_count": null,
      "outputs": []
    },
    {
      "cell_type": "markdown",
      "source": [
        "##Actual Game"
      ],
      "metadata": {
        "id": "-65TCUkV-KqI"
      },
      "id": "-65TCUkV-KqI"
    },
    {
      "cell_type": "markdown",
      "source": [
        "#### Game and Word select Function"
      ],
      "metadata": {
        "id": "7U_QybsoRqJw"
      },
      "id": "7U_QybsoRqJw"
    },
    {
      "cell_type": "code",
      "source": [
        "def game():\n",
        "  output.clear()\n",
        "  ### ACTUAL GAME\n",
        "  word = list(new_word['word'])\n",
        "  #letters = new_word['uni_c']\n",
        "  letters = set(word)\n",
        "  guess = []\n",
        "  for i in range(new_word['w_len']):\n",
        "    guess.append('_')\n",
        "\n",
        "  misses = 0\n",
        "  used_letters = set()\n",
        "  final_msg = f\"You lost. The word was {new_word['word']}\"\n",
        "  while misses <=6:\n",
        "    output.clear()\n",
        "\n",
        "    print(hangman[misses])\n",
        "    if misses >=6:\n",
        "      break\n",
        "    if len(used_letters) > 0:\n",
        "      print(f\"Letters already used: {used_letters}\")\n",
        "\n",
        "    hint = \"\"\n",
        "    for h in range(len(guess)):\n",
        "      hint = hint+' '+guess[h]\n",
        "    # global check\n",
        "    check = input(f'Input a letter {hint}     ').upper()\n",
        "\n",
        "    if len(check) != 1:\n",
        "      print('Enter only 1 letter at a time')\n",
        "    elif check.isalpha() ==0:\n",
        "      print('Only letters please')\n",
        "    else:\n",
        "      used_letters.add(check)\n",
        "      if(check in letters)==1:\n",
        "        #print('nice')\n",
        "        positions=[]\n",
        "        for i in range(len(word)):\n",
        "          if word[i] == check:\n",
        "            positions.append(i)\n",
        "        for i in range(len(positions)):\n",
        "          guess[positions[i]]=check\n",
        "          #print(guess)\n",
        "        letters.remove(check)\n",
        "      else:\n",
        "        #print(\"sad\")\n",
        "        misses +=1\n",
        "      if len(letters)<1:\n",
        "        output.clear()\n",
        "        misses =7\n",
        "        print(hangman[misses])\n",
        "        final_msg = (f\"you win, the Word was {new_word['word']}\")\n",
        "        break\n",
        "  print(final_msg)\n",
        "#  restart_ask()"
      ],
      "metadata": {
        "id": "GeH7XnhRRO_z"
      },
      "id": "GeH7XnhRRO_z",
      "execution_count": null,
      "outputs": []
    },
    {
      "cell_type": "code",
      "source": [
        "def get_word():\n",
        "  #define buttons\n",
        "  button_easy = widgets.Button(description=\"2.997 Words\")\n",
        "  button_hard = widgets.Button(description=\"58.108 Words\")\n",
        "  \n",
        "  def on_button_clicked_easy(b):\n",
        "    less_words()\n",
        "  def on_button_clicked_hard(b):\n",
        "    many_words()\n",
        "  \n",
        "  button_easy.on_click(on_button_clicked_easy)\n",
        "  button_hard.on_click(on_button_clicked_hard)\n",
        "\n",
        "  #Output\n",
        "  print('How many Words should be in the starting pool?')\n",
        "  display(button_easy)\n",
        "  display(button_hard)"
      ],
      "metadata": {
        "id": "zw1Y4uQpfHnN"
      },
      "id": "zw1Y4uQpfHnN",
      "execution_count": null,
      "outputs": []
    },
    {
      "cell_type": "markdown",
      "source": [
        "###### Test Code"
      ],
      "metadata": {
        "id": "MQqqvzS96qUl"
      },
      "id": "MQqqvzS96qUl"
    },
    {
      "cell_type": "code",
      "source": [
        "# def restart_ask():\n",
        "#   global start_game\n",
        "#   #define buttons\n",
        "#   restart_yes = widgets.Button(description=\"New Game\")\n",
        "#   restart_no = widgets.Button(description=\"QUIT\")\n",
        "  \n",
        "#   def on_button_clicked_yes(b):\n",
        "#     start_game ==0\n",
        "#     runner()\n",
        "#   def on_button_clicked_no(b):\n",
        "#     start_game ==2\n",
        "#     runner()\n",
        "  \n",
        "#   restart_yes.on_click(on_button_clicked_yes)\n",
        "#   restart_no.on_click(on_button_clicked_no)\n",
        "\n",
        "#   #Output\n",
        "#   print('Wanna Play again?')\n",
        "#   display(restart_yes)\n",
        "#   display(restart_no)    "
      ],
      "metadata": {
        "id": "UimMt9Ah1oXI"
      },
      "id": "UimMt9Ah1oXI",
      "execution_count": null,
      "outputs": []
    },
    {
      "cell_type": "code",
      "source": [
        "# def runner():\n",
        "#   if start_game ==0:\n",
        "#     output.clear()\n",
        "#     get_word()\n",
        "#     time.sleep(5)\n",
        "#   elif start_game ==1:\n",
        "#     game()\n",
        "#   elif start_game ==2:\n",
        "#     print(\"Bye Bye\") \n",
        "  "
      ],
      "metadata": {
        "id": "d7VTv35wzwl7"
      },
      "id": "d7VTv35wzwl7",
      "execution_count": null,
      "outputs": []
    },
    {
      "cell_type": "markdown",
      "source": [
        "####RUN"
      ],
      "metadata": {
        "id": "XoiHVGmlRtq5"
      },
      "id": "XoiHVGmlRtq5"
    },
    {
      "cell_type": "markdown",
      "source": [
        "##### New Word (has to be run before the game)"
      ],
      "metadata": {
        "id": "ytlX6QR-vdak"
      },
      "id": "ytlX6QR-vdak"
    },
    {
      "cell_type": "code",
      "source": [
        "get_word()"
      ],
      "metadata": {
        "id": "HOOPXqEURwTJ"
      },
      "id": "HOOPXqEURwTJ",
      "execution_count": null,
      "outputs": []
    },
    {
      "cell_type": "markdown",
      "source": [
        "##### Start Game"
      ],
      "metadata": {
        "id": "ywqMlqp6vilU"
      },
      "id": "ywqMlqp6vilU"
    },
    {
      "cell_type": "code",
      "source": [
        "game()"
      ],
      "metadata": {
        "id": "xH166ZmuoSt3",
        "colab": {
          "base_uri": "https://localhost:8080/"
        },
        "outputId": "3e03603b-be83-47cf-91a1-3a4527df10fc"
      },
      "id": "xH166ZmuoSt3",
      "execution_count": null,
      "outputs": [
        {
          "output_type": "stream",
          "name": "stdout",
          "text": [
            "\n",
            "                +---+\n",
            "                  \\ |\n",
            "                   \\|\n",
            "               \\O/  |\n",
            "                |   |\n",
            "               / \\  |\n",
            "             ==========\n",
            "you win, the Word was REVELLED\n"
          ]
        }
      ]
    }
  ],
  "metadata": {
    "kernelspec": {
      "display_name": "Python 3 (ipykernel)",
      "language": "python",
      "name": "python3"
    },
    "language_info": {
      "codemirror_mode": {
        "name": "ipython",
        "version": 3
      },
      "file_extension": ".py",
      "mimetype": "text/x-python",
      "name": "python",
      "nbconvert_exporter": "python",
      "pygments_lexer": "ipython3",
      "version": "3.9.12"
    },
    "colab": {
      "provenance": [],
      "collapsed_sections": [
        "Jps5G1rrNatS",
        "lmoXo2fmmfbj",
        "VuaJNMpAWTOw",
        "tgG9_mQ094XX",
        "2BbKNfGx-Dv4",
        "MQqqvzS96qUl"
      ],
      "include_colab_link": true
    }
  },
  "nbformat": 4,
  "nbformat_minor": 5
}